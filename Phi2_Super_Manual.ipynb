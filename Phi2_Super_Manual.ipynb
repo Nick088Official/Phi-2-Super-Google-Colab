{
  "nbformat": 4,
  "nbformat_minor": 0,
  "metadata": {
    "colab": {
      "provenance": [],
      "gpuType": "T4",
      "include_colab_link": true
    },
    "kernelspec": {
      "name": "python3",
      "display_name": "Python 3"
    },
    "language_info": {
      "name": "python"
    },
    "accelerator": "GPU"
  },
  "cells": [
    {
      "cell_type": "markdown",
      "metadata": {
        "id": "view-in-github",
        "colab_type": "text"
      },
      "source": [
        "<a href=\"https://colab.research.google.com/github/Nick088Official/Phi-2-Super-Google-Colab/blob/main/Phi2_Super_Manual.ipynb\" target=\"_parent\"><img src=\"https://colab.research.google.com/assets/colab-badge.svg\" alt=\"Open In Colab\"/></a>"
      ]
    },
    {
      "cell_type": "markdown",
      "source": [
        "# Phi2 Super AI Microsoft Model NO WEB UI\n",
        " Demo Made by Simone Rizzo & Modified by Nick088\n",
        "\n",
        "This notebook is a demo for testing the new Small Language Model of Microsoft, [Phi-2 article](https://www.microsoft.com/en-us/research/blog/phi-2-the-surprising-power-of-small-language-models/), the modified version, [Phi 2 Super](https://huggingface.co/abacaj/phi-2-super) Model, trained with more dataset.\n",
        "\n",
        "Demo Made by **Simone Rizzo**:\n",
        "- [Youtube](https://www.youtube.com/channel/UCbMlkb79E12CwveGAtdFj-A)\n",
        "- [Linkedin](https://www.linkedin.com/in/simone-rizzo-9851b7147/)\n",
        "- [TikTok](https://www.tiktok.com/@simonerizzo98)\n",
        "\n",
        "Modified by **Nick088**:\n",
        "- [Youtube](https://www.youtube.com/channel/@Nick088Official)\n",
        "- [TikTok](https://www.tiktok.com/@forgotforever)\n",
        "- [Reddit](reddit.com/user/Nick088Real)\n",
        "- [Twitter](https://twitter.com/Nick088Official)\n",
        "- [Discord](https://discord.com/channels/@me/911742715019001897)\n",
        "\n",
        "Follow and leave a like on my socials 😜"
      ],
      "metadata": {
        "id": "2Gry2XWN2Ct1"
      }
    },
    {
      "cell_type": "code",
      "source": [
        "#@title Install & Load Dependencies, Model\n",
        "\n",
        "#@markdown If you wanna use CPU (slower, no daily limit): Set the CPU from Edit -> Notebook Settings -> CPU\n",
        "\n",
        "#@markdown If you wanna use GPU (faster, max 12 free hours daily limit): Set the Video Card from Edit -> Notebook Settings -> T4 GPU OR Any other GPUs based on your Google Colab Subscription\n",
        "\n",
        "!pip install einops\n",
        "!pip install accelerate\n",
        "import torch\n",
        "from IPython.display import clear_output\n",
        "\n",
        "if torch.cuda.is_available():\n",
        "    device = \"cuda\"\n",
        "    print(\"Using GPU\")\n",
        "else:\n",
        "    device = \"cpu\"\n",
        "    print(\"Using CPU\")\n",
        "\n",
        "# Now you can use 'device' for your PyTorch operations\n",
        "\n",
        "torch.set_default_device(device)\n",
        "\n",
        "#@markdown The normal version is the official one from Microsoft, the other ones are GGUF quantized (GPU REQUIRED FOR THOSE), compressed to consume less ram, see more info about them [in the Hugging Face repo of Phi 2 Super GGUF](https://huggingface.co/sayhan/phi-2-super-GGUF)\n",
        "\n",
        "phi_2_super_model_version = \"normal\" #@param ['normal', 'Q2_K', 'Q3_K_S', 'Q3_K_M', 'Q3_K_L', 'Q4_0', 'Q4_K_M', 'Q4_K_S', 'Q5_0', 'Q5_K_S', 'Q5_K_M', 'Q6_K', 'Q8_0', 'FP16']\n",
        "\n",
        "if phi_2_super_model_version == \"normal\":\n",
        "  from transformers import AutoModelForCausalLM, AutoTokenizer\n",
        "  if device == \"cuda\":\n",
        "    model = AutoModelForCausalLM.from_pretrained(\"abacaj/phi-2-super\", model_file=\"phi-2-super.Q5_0.gguf\", torch_dtype=\"auto\", trust_remote_code=True)\n",
        "    tokenizer = AutoTokenizer.from_pretrained(\"abacaj/phi-2-super\", trust_remote_code=True)\n",
        "  else:\n",
        "    model = AutoModelForCausalLM.from_pretrained(\"abacaj/phi-2-super\", torch_dtype=torch.float32, device_map=\"cpu\", trust_remote_code=True)\n",
        "    tokenizer = AutoTokenizer.from_pretrained(\"abacaj/phi-2-super\", trust_remote_code=True)\n",
        "else:\n",
        "  !nvidia-smi\n",
        "  !CMAKE_ARGS=\"-DLLAMA_CUBLAS=on\" pip install llama-cpp-python\n",
        "  from huggingface_hub import hf_hub_download\n",
        "  from llama_cpp import Llama\n",
        "  model_name = \"sayhan/phi-2-super-GGUF\"\n",
        "  model_file = f\"phi-2-super.{phi_2_super_model_version}.gguf\"\n",
        "  model_path = hf_hub_download(model_name,\n",
        "                               filename=model_file,\n",
        "                               local_dir='/content')\n",
        "  from llama_cpp import Llama\n",
        "  llm = Llama(model_path=model_path,\n",
        "            n_gpu_layers=-1)\n",
        "\n",
        "\n",
        "clear_output()\n",
        "print(f\"Done downloading Phi 2 Super {phi_2_super_model_version}!\")"
      ],
      "metadata": {
        "id": "0qpu5_4ssgru",
        "cellView": "form"
      },
      "execution_count": null,
      "outputs": []
    },
    {
      "cell_type": "code",
      "source": [
        "#@title Run Phi 2 Super\n",
        "#@markdown Your Prompt\n",
        "user_prompt = \"What is microsoft?\" #@param {type:\"string\"}\n",
        "\n",
        "# Additional inputs\n",
        "#@markdown Add your system prompt (prompt to personalize the AI) here or leave it empty if you wanna use the AI normally\n",
        "system_prompt = \"You are ShortAI, write short but concise responses\"  #@param {type:\"string\"}\n",
        "#@markdown The maximum number of tokens that the model will generate in response to your input\n",
        "max_new_tokens = 1000 #@param {type:\"slider\", min:256, max:2048, step:1}\n",
        "#@markdown Penalize repeated tokens, so make the AI repeat less of itself\n",
        "repetition_penalty = 1.2 #@param {type:\"slider\", min:0.0, max:2, step:0.1}\n",
        "#@markdown Higher values produce more diverse outputs\n",
        "temperature = 0.5 #@param {type:\"slider\", min:0.0, max:1.00, step:0.05}\n",
        "#@markdown Higher values sample more low-probability tokens\n",
        "top_p = 1 #@param {type:\"slider\", min:0.0, max:2.0, step:0.05}\n",
        "#@markdown Higher k means more diverse outputs by considering a range of tokens\n",
        "top_k = 41 #@param {type:\"slider\", min:1, max:100, step:1}\n",
        "\n",
        "# Concatenate system and user prompts\n",
        "full_prompt = system_prompt + user_prompt\n",
        "\n",
        "if phi_2_super_model_version == \"normal\":\n",
        "# Tokenize the combined prompt\n",
        "  inputs = tokenizer(full_prompt, return_tensors=\"pt\", return_attention_mask=False)\n",
        "# Generate text based on the combined prompt and additional inputs\n",
        "  outputs = model.generate(\n",
        "      **inputs,\n",
        "      max_new_tokens=max_new_tokens,\n",
        "      repetition_penalty=repetition_penalty\n",
        "      temperature=temperature,\n",
        "      top_p=top_p,\n",
        "      top_k=top_k\n",
        "      )\n",
        "\n",
        "  text = tokenizer.batch_decode(outputs)[0]\n",
        "\n",
        "# Extract the generated text from the model output\n",
        "  text = text[len(system_prompt):].strip()  # Remove the system prompt from the generated text\n",
        "  clear_output()\n",
        "  print(text)\n",
        "else:\n",
        "  response = llm(full_prompt, max_tokens=max_new_tokens, repeat_penalty=repetition_penalty, temperature=temperature, top_p=top_p, top_k=top_k)\n",
        "  clear_output()\n",
        "  print(response['choices'][0]['text'])"
      ],
      "metadata": {
        "id": "w5smD9W0bsF8",
        "cellView": "form"
      },
      "execution_count": null,
      "outputs": []
    }
  ]
}